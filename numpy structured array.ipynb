{
 "cells": [
  {
   "cell_type": "code",
   "execution_count": 1,
   "metadata": {},
   "outputs": [],
   "source": [
    "import numpy as np"
   ]
  },
  {
   "cell_type": "markdown",
   "metadata": {},
   "source": [
    "#### create numpy structured array"
   ]
  },
  {
   "cell_type": "code",
   "execution_count": 2,
   "metadata": {},
   "outputs": [
    {
     "data": {
      "text/plain": [
       "array([(b'', 0., 0., 0), (b'', 0., 0., 0), (b'', 0., 0., 0),\n",
       "       (b'', 0., 0., 0), (b'', 0., 0., 0)],\n",
       "      dtype=[('name', 'S6'), ('height', '<f8'), ('weight', '<f8'), ('age', '<i8')])"
      ]
     },
     "execution_count": 2,
     "metadata": {},
     "output_type": "execute_result"
    }
   ],
   "source": [
    "array_definition = [('name', 'S6'), ('height', 'f8'), ('weight', 'f8'), ('age', 'i8')]\n",
    "num_champs = 5\n",
    "champ_array = np.zeros(num_champs, dtype=array_definition)\n",
    "champ_array"
   ]
  },
  {
   "cell_type": "markdown",
   "metadata": {},
   "source": [
    "#### assign values into the champ_array"
   ]
  },
  {
   "cell_type": "code",
   "execution_count": 3,
   "metadata": {},
   "outputs": [],
   "source": [
    "champ_array[0] = ('Aatrox', '7', '180', '1000')\n",
    "champ_array[1] = ('Lux', '5.4', '135', '22')\n",
    "champ_array[2] = ('Garen', '6', '175', '26')\n",
    "champ_array[3] = ('Azir', '6.5', '170', '5000')\n",
    "champ_array[4] = ('Teemo', 4, 80, 13)"
   ]
  },
  {
   "cell_type": "code",
   "execution_count": 4,
   "metadata": {},
   "outputs": [
    {
     "data": {
      "text/plain": [
       "array([(b'Aatrox', 7. , 180., 1000), (b'Lux', 5.4, 135.,   22),\n",
       "       (b'Garen', 6. , 175.,   26), (b'Azir', 6.5, 170., 5000),\n",
       "       (b'Teemo', 4. ,  80.,   13)],\n",
       "      dtype=[('name', 'S6'), ('height', '<f8'), ('weight', '<f8'), ('age', '<i8')])"
      ]
     },
     "execution_count": 4,
     "metadata": {},
     "output_type": "execute_result"
    }
   ],
   "source": [
    "champ_array"
   ]
  },
  {
   "cell_type": "markdown",
   "metadata": {},
   "source": [
    "#### execute champ_array"
   ]
  },
  {
   "cell_type": "code",
   "execution_count": 5,
   "metadata": {},
   "outputs": [
    {
     "data": {
      "text/plain": [
       "array([(b'Aatrox', 1000), (b'Lux',   22), (b'Garen',   26),\n",
       "       (b'Azir', 5000), (b'Teemo',   13)],\n",
       "      dtype={'names':['name','age'], 'formats':['S6','<i8'], 'offsets':[0,22], 'itemsize':30})"
      ]
     },
     "execution_count": 5,
     "metadata": {},
     "output_type": "execute_result"
    }
   ],
   "source": [
    "champ_array[['name', 'age']]"
   ]
  },
  {
   "cell_type": "code",
   "execution_count": 6,
   "metadata": {},
   "outputs": [
    {
     "name": "stdout",
     "output_type": "stream",
     "text": [
      "(b'Aatrox', 7., 180., 1000)\n",
      "(b'Lux', 5.4, 135., 22)\n",
      "(b'Garen', 6., 175., 26)\n",
      "(b'Azir', 6.5, 170., 5000)\n",
      "(b'Teemo', 4., 80., 13)\n"
     ]
    }
   ],
   "source": [
    "print(champ_array[0])\n",
    "print(champ_array[1])\n",
    "print(champ_array[2])\n",
    "print(champ_array[3])\n",
    "print(champ_array[4])"
   ]
  },
  {
   "cell_type": "markdown",
   "metadata": {},
   "source": [
    "#### numpy array tobytes and convert back"
   ]
  },
  {
   "cell_type": "code",
   "execution_count": 7,
   "metadata": {},
   "outputs": [
    {
     "data": {
      "text/plain": [
       "b'Aatrox\\x00\\x00\\x00\\x00\\x00\\x00\\x1c@\\x00\\x00\\x00\\x00\\x00\\x80f@\\xe8\\x03\\x00\\x00\\x00\\x00\\x00\\x00Lux\\x00\\x00\\x00\\x9a\\x99\\x99\\x99\\x99\\x99\\x15@\\x00\\x00\\x00\\x00\\x00\\xe0`@\\x16\\x00\\x00\\x00\\x00\\x00\\x00\\x00Garen\\x00\\x00\\x00\\x00\\x00\\x00\\x00\\x18@\\x00\\x00\\x00\\x00\\x00\\xe0e@\\x1a\\x00\\x00\\x00\\x00\\x00\\x00\\x00Azir\\x00\\x00\\x00\\x00\\x00\\x00\\x00\\x00\\x1a@\\x00\\x00\\x00\\x00\\x00@e@\\x88\\x13\\x00\\x00\\x00\\x00\\x00\\x00Teemo\\x00\\x00\\x00\\x00\\x00\\x00\\x00\\x10@\\x00\\x00\\x00\\x00\\x00\\x00T@\\r\\x00\\x00\\x00\\x00\\x00\\x00\\x00'"
      ]
     },
     "execution_count": 7,
     "metadata": {},
     "output_type": "execute_result"
    }
   ],
   "source": [
    "enc = champ_array.tobytes()\n",
    "enc"
   ]
  },
  {
   "cell_type": "code",
   "execution_count": 8,
   "metadata": {},
   "outputs": [
    {
     "data": {
      "text/plain": [
       "array([(b'Aatrox', 7. , 180., 1000), (b'Lux', 5.4, 135.,   22),\n",
       "       (b'Garen', 6. , 175.,   26), (b'Azir', 6.5, 170., 5000),\n",
       "       (b'Teemo', 4. ,  80.,   13)],\n",
       "      dtype=[('name', 'S6'), ('height', '<f8'), ('weight', '<f8'), ('age', '<i8')])"
      ]
     },
     "execution_count": 8,
     "metadata": {},
     "output_type": "execute_result"
    }
   ],
   "source": [
    "np.frombuffer(enc, array_definition)"
   ]
  }
 ],
 "metadata": {
  "kernelspec": {
   "display_name": "Python 3",
   "language": "python",
   "name": "python3"
  },
  "language_info": {
   "codemirror_mode": {
    "name": "ipython",
    "version": 3
   },
   "file_extension": ".py",
   "mimetype": "text/x-python",
   "name": "python",
   "nbconvert_exporter": "python",
   "pygments_lexer": "ipython3",
   "version": "3.7.7"
  }
 },
 "nbformat": 4,
 "nbformat_minor": 4
}
